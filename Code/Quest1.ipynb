{
 "cells": [
  {
   "cell_type": "code",
   "execution_count": null,
   "metadata": {},
   "outputs": [],
   "source": [
    "import pandas as pd\n",
    "import matplotlib.pyplot as plt\n",
    "import seaborn as sns\n",
    "\n",
    "# Load the dataset\n",
    "data = pd.read_csv('data_TV.csv')"
   ]
  },
  {
   "cell_type": "code",
   "execution_count": null,
   "metadata": {},
   "outputs": [],
   "source": [
    "# Display information about the dataset\n",
    "print(data.info())"
   ]
  },
  {
   "cell_type": "code",
   "execution_count": null,
   "metadata": {},
   "outputs": [],
   "source": [
    "# Check for missing values\n",
    "print(data.isnull().sum())"
   ]
  },
  {
   "cell_type": "code",
   "execution_count": null,
   "metadata": {},
   "outputs": [],
   "source": [
    "# Summary statistics for numerical columns\n",
    "print(data.describe())\n"
   ]
  },
  {
   "cell_type": "code",
   "execution_count": null,
   "metadata": {},
   "outputs": [],
   "source": [
    "# Most popular shows\n",
    "print(\"\\nTop 5 Most Popular Shows:\\n\")\n",
    "print(data[['name', 'popularity']].sort_values(by='popularity', ascending=False).head())\n",
    "\n",
    "# Highest-rated shows\n",
    "print(\"\\nTop 5 Highest-Rated Shows:\\n\")\n",
    "print(data[['name', 'vote_average']].sort_values(by='vote_average', ascending=False).head())"
   ]
  },
  {
   "cell_type": "markdown",
   "metadata": {},
   "source": [
    "EXPERIMENT 1"
   ]
  },
  {
   "cell_type": "code",
   "execution_count": null,
   "metadata": {},
   "outputs": [],
   "source": [
    "#create heatmap\n",
    "plt.figure(figsize=(8, 6))\n",
    "correlation = data[['popularity', 'vote_average', 'vote_count']].corr()\n",
    "sns.heatmap(correlation, annot=True, cmap='coolwarm', fmt='.2f')\n",
    "plt.title('Correlation Heatmap')\n",
    "plt.show()"
   ]
  },
  {
   "cell_type": "markdown",
   "metadata": {},
   "source": [
    "EXPERIMENT 2"
   ]
  },
  {
   "cell_type": "code",
   "execution_count": null,
   "metadata": {},
   "outputs": [],
   "source": [
    "data['release_year'] = pd.to_datetime(data['first_air_date'], errors='coerce').dt.year\n",
    "plt.figure(figsize=(12, 6))\n",
    "year_popularity = data.groupby('release_year')['popularity'].mean()\n",
    "year_popularity.plot(kind='line', color='purple')\n",
    "plt.title('Popularity by Year of Release')\n",
    "plt.xlabel('Year of Release')\n",
    "plt.ylabel('Average Popularity')\n",
    "plt.grid(True)\n",
    "plt.show()\n"
   ]
  },
  {
   "cell_type": "markdown",
   "metadata": {},
   "source": [
    "Data needed to be cleaned 2023 seems like such an outlier "
   ]
  },
  {
   "cell_type": "code",
   "execution_count": null,
   "metadata": {},
   "outputs": [],
   "source": [
    "data['release_year'] = pd.to_datetime(data['first_air_date'], errors='coerce').dt.year\n",
    "\n",
    "# missing years\n",
    "print(\"\\nMissing Release Years:\\n\")\n",
    "print(data['release_year'].isnull().sum())\n",
    "\n",
    "# Check data distribution by year\n",
    "print(\"\\nData Distribution by Year:\\n\")\n",
    "print(data['release_year'].value_counts().sort_index())\n",
    "\n",
    "# Filter popularity outliers (most likely was is causing issues)\n",
    "threshold = data['popularity'].quantile(0.99)\n",
    "data_filtered = data[data['popularity'] <= threshold]"
   ]
  },
  {
   "cell_type": "code",
   "execution_count": null,
   "metadata": {},
   "outputs": [],
   "source": [
    "# retry graph with filtered data\n",
    "plt.figure(figsize=(12, 6))\n",
    "year_popularity_filtered = data_filtered.groupby('release_year')['popularity'].mean()\n",
    "year_popularity_filtered.plot(kind='line', color='purple')\n",
    "plt.title('Popularity by Year of Release (Filtered)')\n",
    "plt.xlabel('Year of Release')\n",
    "plt.ylabel('Average Popularity')\n",
    "plt.grid(True)\n",
    "plt.show()"
   ]
  }
 ],
 "metadata": {
  "kernelspec": {
   "display_name": "Python 3",
   "language": "python",
   "name": "python3"
  },
  "language_info": {
   "codemirror_mode": {
    "name": "ipython",
    "version": 3
   },
   "file_extension": ".py",
   "mimetype": "text/x-python",
   "name": "python",
   "nbconvert_exporter": "python",
   "pygments_lexer": "ipython3",
   "version": "3.12.0"
  }
 },
 "nbformat": 4,
 "nbformat_minor": 2
}
