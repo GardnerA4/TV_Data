{
 "cells": [
  {
   "cell_type": "code",
   "execution_count": 16,
   "metadata": {},
   "outputs": [
    {
     "ename": "ModuleNotFoundError",
     "evalue": "No module named 'pandas'",
     "output_type": "error",
     "traceback": [
      "\u001b[1;31m---------------------------------------------------------------------------\u001b[0m",
      "\u001b[1;31mModuleNotFoundError\u001b[0m                       Traceback (most recent call last)",
      "Cell \u001b[1;32mIn[16], line 1\u001b[0m\n\u001b[1;32m----> 1\u001b[0m \u001b[38;5;28;01mimport\u001b[39;00m \u001b[38;5;21;01mpandas\u001b[39;00m \u001b[38;5;28;01mas\u001b[39;00m \u001b[38;5;21;01mpd\u001b[39;00m\n\u001b[0;32m      2\u001b[0m \u001b[38;5;28;01mimport\u001b[39;00m \u001b[38;5;21;01mmatplotlib\u001b[39;00m\u001b[38;5;21;01m.\u001b[39;00m\u001b[38;5;21;01mpyplot\u001b[39;00m \u001b[38;5;28;01mas\u001b[39;00m \u001b[38;5;21;01mplt\u001b[39;00m\n\u001b[0;32m      3\u001b[0m \u001b[38;5;28;01mimport\u001b[39;00m \u001b[38;5;21;01mseaborn\u001b[39;00m \u001b[38;5;28;01mas\u001b[39;00m \u001b[38;5;21;01msns\u001b[39;00m\n",
      "\u001b[1;31mModuleNotFoundError\u001b[0m: No module named 'pandas'"
     ]
    }
   ],
   "source": [
    "import pandas as pd\n",
    "import matplotlib.pyplot as plt\n",
    "import seaborn as sns\n",
    "\n",
    "# Load the dataset\n",
    "data = pd.read_csv('data_TV.csv')\n",
    "\n",
    "# Display basic information about the dataset\n",
    "print(\"Dataset Overview:\\n\")\n",
    "print(data.info())\n",
    "print(\"\\nFirst Few Rows:\\n\")\n",
    "print(data.head())\n",
    "\n",
    "# Summary statistics for numerical columns\n",
    "print(\"\\nSummary Statistics for Numeric Columns:\\n\")\n",
    "print(data.describe())\n",
    "\n",
    "# Check for missing values\n",
    "print(\"\\nMissing Values:\\n\")\n",
    "print(data.isnull().sum())\n",
    "\n",
    "# Most popular shows\n",
    "print(\"\\nTop 5 Most Popular Shows:\\n\")\n",
    "print(data[['name', 'popularity']].sort_values(by='popularity', ascending=False).head())\n",
    "\n",
    "# Highest-rated shows\n",
    "print(\"\\nTop 5 Highest-Rated Shows:\\n\")\n",
    "print(data[['name', 'vote_average']].sort_values(by='vote_average', ascending=False).head())\n",
    "\n",
    "# Distribution of vote_average\n",
    "plt.figure(figsize=(10, 6))\n",
    "sns.histplot(data['vote_average'], kde=True, bins=20, color='blue')\n",
    "plt.title('Distribution of Vote Average')\n",
    "plt.xlabel('Vote Average')\n",
    "plt.ylabel('Frequency')\n",
    "plt.show()\n",
    "\n",
    "# Popularity by original language\n",
    "plt.figure(figsize=(12, 6))\n",
    "lang_popularity = data.groupby('original_language')['popularity'].mean().sort_values(ascending=False)\n",
    "lang_popularity.plot(kind='bar', color='green')\n",
    "plt.title('Average Popularity by Original Language')\n",
    "plt.xlabel('Original Language')\n",
    "plt.ylabel('Average Popularity')\n",
    "plt.show()\n",
    "\n",
    "# Top countries producing the shows\n",
    "plt.figure(figsize=(12, 6))\n",
    "country_counts = data['origin_country'].value_counts().head(10)\n",
    "country_counts.plot(kind='bar', color='orange')\n",
    "plt.title('Top 10 Countries Producing TV Shows')\n",
    "plt.xlabel('Country')\n",
    "plt.ylabel('Number of Shows')\n",
    "plt.show()\n",
    "\n",
    "# Correlation heatmap for numeric columns\n",
    "plt.figure(figsize=(8, 6))\n",
    "correlation = data[['popularity', 'vote_average', 'vote_count']].corr()\n",
    "sns.heatmap(correlation, annot=True, cmap='coolwarm', fmt='.2f')\n",
    "plt.title('Correlation Heatmap')\n",
    "plt.show()\n"
   ]
  }
 ],
 "metadata": {
  "kernelspec": {
   "display_name": "Python 3",
   "language": "python",
   "name": "python3"
  },
  "language_info": {
   "codemirror_mode": {
    "name": "ipython",
    "version": 3
   },
   "file_extension": ".py",
   "mimetype": "text/x-python",
   "name": "python",
   "nbconvert_exporter": "python",
   "pygments_lexer": "ipython3",
   "version": "3.12.0"
  }
 },
 "nbformat": 4,
 "nbformat_minor": 2
}
